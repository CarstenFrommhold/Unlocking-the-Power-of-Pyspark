{
 "cells": [
  {
   "cell_type": "markdown",
   "id": "06c7d155",
   "metadata": {
    "pycharm": {
     "name": "#%% md\n"
    }
   },
   "source": [
    "# Train a model\n",
    "\n",
    "With the knowledge of some Spark and PySpark basics, one can move on to machine learning utilities: Spark ML (*) \n",
    "\n",
    "Here, we take a simple dataset and fit a regressor. This does not claim to be a complete data science process. More important is to get to know the analogies and differences to known frameworks such as scikit-learn.\n",
    "\n",
    "(*) Often, one hears the term *MLLib*. This usually refers to the *ML* library by Spark. Strictly speaking, these are two different things. Spark MLlib is the older of the two and is applied directly to RDDs. Spark ML, on the other hand, is built on top of DataFrames and provides a higher-level API that abstracts away some of the low-level details of building and tuning machine learning models."
   ]
  },
  {
   "cell_type": "code",
   "execution_count": 1,
   "id": "2c38ffc0-5e0b-4f51-bf99-f4a5df9a163c",
   "metadata": {
    "pycharm": {
     "name": "#%%\n"
    },
    "tags": []
   },
   "outputs": [],
   "source": [
    "from pyspark.ml.classification import LogisticRegression, LogisticRegressionModel\n",
    "from pyspark.ml.regression import LinearRegression, LinearRegressionModel\n",
    "from pyspark.ml.evaluation import BinaryClassificationEvaluator, RegressionEvaluator, MulticlassClassificationEvaluator\n",
    "from pyspark.ml.feature import VectorAssembler\n",
    "from pyspark.ml.tuning import CrossValidator, ParamGridBuilder\n",
    "from pyspark.sql import SparkSession\n",
    "from pyspark.ml import Pipeline\n",
    "\n",
    "from pyspark.sql.functions import col\n",
    "from pyspark.sql.types import IntegerType\n",
    "from pyspark.sql.functions import mean, stddev"
   ]
  },
  {
   "cell_type": "code",
   "execution_count": 2,
   "id": "b9ceda32-eacb-4026-93cf-f0ac54b0ed82",
   "metadata": {
    "pycharm": {
     "name": "#%%\n"
    },
    "tags": []
   },
   "outputs": [
    {
     "name": "stderr",
     "output_type": "stream",
     "text": [
      "Setting default log level to \"WARN\".\n",
      "To adjust logging level use sc.setLogLevel(newLevel). For SparkR, use setLogLevel(newLevel).\n",
      "23/05/17 13:33:37 WARN NativeCodeLoader: Unable to load native-hadoop library for your platform... using builtin-java classes where applicable\n"
     ]
    }
   ],
   "source": [
    "spark_session: SparkSession = SparkSession.builder.master(\"local\").appName(\"Local\").getOrCreate()"
   ]
  },
  {
   "cell_type": "code",
   "execution_count": 3,
   "id": "3795bb1f-5d2b-4271-a784-0adc7ae0ec51",
   "metadata": {
    "pycharm": {
     "name": "#%%\n"
    },
    "tags": []
   },
   "outputs": [],
   "source": [
    "sc = spark_session.sparkContext"
   ]
  },
  {
   "cell_type": "markdown",
   "id": "1d624ceb",
   "metadata": {
    "pycharm": {
     "name": "#%% md\n"
    }
   },
   "source": [
    "## Load data\n",
    "\n",
    "Iris, penguins, AirBnBs, Wines etc. You already know them by heart?   \n",
    "\n",
    "Well, then let's take a look at a more business specific problem."
   ]
  },
  {
   "cell_type": "code",
   "execution_count": 4,
   "id": "7d65fcd3-f55b-4f1e-a7bd-2947d1153a96",
   "metadata": {
    "tags": []
   },
   "outputs": [],
   "source": [
    "df = spark_session.read.csv(\"data/mocked_customer_data.csv\", inferSchema=True, header=True)"
   ]
  },
  {
   "cell_type": "markdown",
   "id": "ae009232",
   "metadata": {
    "pycharm": {
     "name": "#%% md\n"
    }
   },
   "source": [
    "## EDA\n",
    "\n",
    "Performing EDA using PySpark has its pros and cons. On the one hand, PySpark supports various statistical functions that can help you calculate summary statistics, identify outliers, and explore relationships between variables. This can be particularly useful when dealing with very large datasets that cannot be easily processed using other tools.\n",
    "\n",
    "On the other hand, PySpark does not support plotting and visualization, which can be an important part of the EDA process. "
   ]
  },
  {
   "cell_type": "code",
   "execution_count": 5,
   "id": "1b121295",
   "metadata": {
    "collapsed": false,
    "jupyter": {
     "outputs_hidden": false
    },
    "pycharm": {
     "name": "#%%\n"
    },
    "tags": []
   },
   "outputs": [
    {
     "name": "stdout",
     "output_type": "stream",
     "text": [
      "root\n",
      " |-- customer_id: long (nullable = true)\n",
      " |-- postal_code: integer (nullable = true)\n",
      " |-- n1: double (nullable = true)\n",
      " |-- n2: double (nullable = true)\n",
      " |-- n3: double (nullable = true)\n",
      " |-- n4: string (nullable = true)\n",
      " |-- n4_1: integer (nullable = true)\n",
      " |-- n4_2: integer (nullable = true)\n",
      " |-- n4_3: integer (nullable = true)\n",
      " |-- target: integer (nullable = true)\n",
      "\n"
     ]
    }
   ],
   "source": [
    "df.printSchema()"
   ]
  },
  {
   "cell_type": "code",
   "execution_count": 6,
   "id": "8a1acda1",
   "metadata": {
    "collapsed": false,
    "jupyter": {
     "outputs_hidden": false
    },
    "pycharm": {
     "name": "#%%\n"
    },
    "tags": []
   },
   "outputs": [
    {
     "name": "stdout",
     "output_type": "stream",
     "text": [
      "+-------------------+-----------+-------------------+-------------------+--------------------+-----------------+----+----+----+------+\n",
      "|        customer_id|postal_code|                 n1|                 n2|                  n3|               n4|n4_1|n4_2|n4_3|target|\n",
      "+-------------------+-----------+-------------------+-------------------+--------------------+-----------------+----+----+----+------+\n",
      "|4974467801682041986|       1970| 1.0389522417417338|0.16304700716821743|-0.07161893126965056|Intermediate Area|   0|   0|   1|     0|\n",
      "|-858641559787057159|       1645|-0.2659940172448812|  0.750317496703657| -0.8372525523443803|          Country|   0|   1|   0|     0|\n",
      "+-------------------+-----------+-------------------+-------------------+--------------------+-----------------+----+----+----+------+\n",
      "only showing top 2 rows\n",
      "\n"
     ]
    }
   ],
   "source": [
    "df.show(2)"
   ]
  },
  {
   "cell_type": "code",
   "execution_count": 7,
   "id": "ed75d6c8",
   "metadata": {
    "collapsed": false,
    "jupyter": {
     "outputs_hidden": false
    },
    "pycharm": {
     "name": "#%%\n"
    },
    "tags": []
   },
   "outputs": [
    {
     "name": "stdout",
     "output_type": "stream",
     "text": [
      "-RECORD 0---------------------------\n",
      " customer_id | 4974467801682041986  \n",
      " postal_code | 1970                 \n",
      " n1          | 1.0389522417417338   \n",
      " n2          | 0.16304700716821743  \n",
      " n3          | -0.07161893126965056 \n",
      " n4          | Intermediate Area    \n",
      " n4_1        | 0                    \n",
      " n4_2        | 0                    \n",
      " n4_3        | 1                    \n",
      " target      | 0                    \n",
      "-RECORD 1---------------------------\n",
      " customer_id | -858641559787057159  \n",
      " postal_code | 1645                 \n",
      " n1          | -0.2659940172448812  \n",
      " n2          | 0.750317496703657    \n",
      " n3          | -0.8372525523443803  \n",
      " n4          | Country              \n",
      " n4_1        | 0                    \n",
      " n4_2        | 1                    \n",
      " n4_3        | 0                    \n",
      " target      | 0                    \n",
      "only showing top 2 rows\n",
      "\n"
     ]
    }
   ],
   "source": [
    "df.show(2, vertical=True)"
   ]
  },
  {
   "cell_type": "code",
   "execution_count": 8,
   "id": "fd379767",
   "metadata": {
    "collapsed": false,
    "jupyter": {
     "outputs_hidden": false
    },
    "pycharm": {
     "name": "#%%\n"
    },
    "tags": []
   },
   "outputs": [],
   "source": [
    "spark_session.conf.set(\"spark.sql.repl.eagerEval.enabled\", True)"
   ]
  },
  {
   "cell_type": "code",
   "execution_count": 9,
   "id": "8e040842",
   "metadata": {
    "collapsed": false,
    "jupyter": {
     "outputs_hidden": false
    },
    "pycharm": {
     "name": "#%%\n"
    },
    "tags": []
   },
   "outputs": [
    {
     "data": {
      "text/html": [
       "<table border='1'>\n",
       "<tr><th>customer_id</th><th>postal_code</th><th>n1</th><th>n2</th><th>n3</th><th>n4</th><th>n4_1</th><th>n4_2</th><th>n4_3</th><th>target</th></tr>\n",
       "<tr><td>4974467801682041986</td><td>1970</td><td>1.0389522417417338</td><td>0.16304700716821743</td><td>-0.07161893126965056</td><td>Intermediate Area</td><td>0</td><td>0</td><td>1</td><td>0</td></tr>\n",
       "<tr><td>-858641559787057159</td><td>1645</td><td>-0.2659940172448812</td><td>0.750317496703657</td><td>-0.8372525523443803</td><td>Country</td><td>0</td><td>1</td><td>0</td><td>0</td></tr>\n",
       "<tr><td>7875860926956384571</td><td>7684</td><td>1.3367555579432162</td><td>0.26249975961591904</td><td>1.542938718088682</td><td>City</td><td>1</td><td>0</td><td>0</td><td>0</td></tr>\n",
       "<tr><td>1718663060827327339</td><td>3355</td><td>0.5151084439689695</td><td>-0.7996961849347815</td><td>2.175468067045149</td><td>Country</td><td>0</td><td>1</td><td>0</td><td>1</td></tr>\n",
       "<tr><td>-8637874552457225727</td><td>4344</td><td>1.6956467653837362</td><td>-0.945521641217198</td><td>-0.8639522191312855</td><td>City</td><td>1</td><td>0</td><td>0</td><td>0</td></tr>\n",
       "<tr><td>-3177612884997717707</td><td>3784</td><td>0.9220421897516056</td><td>1.550548930005398</td><td>0.6383819989459883</td><td>Country</td><td>0</td><td>1</td><td>0</td><td>0</td></tr>\n",
       "<tr><td>8497217710787736490</td><td>5538</td><td>0.05814977039212976</td><td>1.1856903392169684</td><td>0.8213706052182598</td><td>City</td><td>1</td><td>0</td><td>0</td><td>0</td></tr>\n",
       "<tr><td>4292528309378731798</td><td>1749</td><td>0.6513284963527268</td><td>0.31681656319599555</td><td>0.6160836933665816</td><td>City</td><td>1</td><td>0</td><td>0</td><td>0</td></tr>\n",
       "<tr><td>3264293750177743940</td><td>7445</td><td>0.18470854245406923</td><td>-0.28029403630823474</td><td>-0.7622539473498987</td><td>Intermediate Area</td><td>0</td><td>0</td><td>1</td><td>0</td></tr>\n",
       "<tr><td>3343463163369573891</td><td>6479</td><td>-1.8851460177226464</td><td>-0.2248136997426025</td><td>-0.6219523743600517</td><td>City</td><td>1</td><td>0</td><td>0</td><td>0</td></tr>\n",
       "<tr><td>-2003091656489871943</td><td>9053</td><td>1.4136364493913367</td><td>-2.1733523037523237</td><td>1.9156759384605735</td><td>Intermediate Area</td><td>0</td><td>0</td><td>1</td><td>1</td></tr>\n",
       "<tr><td>-1573443531256041397</td><td>473</td><td>-0.6817104012717342</td><td>-0.1283641785877116</td><td>-0.73185303492469</td><td>Intermediate Area</td><td>0</td><td>0</td><td>1</td><td>0</td></tr>\n",
       "<tr><td>2410866566384909228</td><td>910</td><td>-0.35350044973534683</td><td>0.3937318388806912</td><td>-0.7196739837242427</td><td>Intermediate Area</td><td>0</td><td>0</td><td>1</td><td>0</td></tr>\n",
       "<tr><td>-1315417650723204670</td><td>5525</td><td>1.4511329945225828</td><td>3.298178612770547</td><td>-0.8975487114547572</td><td>City</td><td>1</td><td>0</td><td>0</td><td>0</td></tr>\n",
       "<tr><td>-8786575890857431089</td><td>3411</td><td>0.6802768653414779</td><td>0.7255625160464504</td><td>1.8012801856627363</td><td>City</td><td>1</td><td>0</td><td>0</td><td>0</td></tr>\n",
       "<tr><td>-4161989670585993951</td><td>2865</td><td>-0.5213750426098978</td><td>-0.4447004351310944</td><td>1.350303800122193</td><td>Country</td><td>0</td><td>1</td><td>0</td><td>1</td></tr>\n",
       "<tr><td>129906036330947555</td><td>5998</td><td>2.6881375747492817</td><td>-0.10078600190799875</td><td>-1.2536800356986995</td><td>City</td><td>1</td><td>0</td><td>0</td><td>0</td></tr>\n",
       "<tr><td>-7539469263975420858</td><td>154</td><td>0.4055365083682963</td><td>-0.3288439646441138</td><td>0.8202907508637033</td><td>Intermediate Area</td><td>0</td><td>0</td><td>1</td><td>0</td></tr>\n",
       "<tr><td>-4880110660144099841</td><td>3972</td><td>0.2545245569769309</td><td>-0.851390765076803</td><td>-1.3877756936883927</td><td>Country</td><td>0</td><td>1</td><td>0</td><td>0</td></tr>\n",
       "<tr><td>5743198325664452321</td><td>4691</td><td>0.22347978480943695</td><td>0.2569620184325527</td><td>-0.6155492259994447</td><td>Intermediate Area</td><td>0</td><td>0</td><td>1</td><td>0</td></tr>\n",
       "</table>\n",
       "only showing top 20 rows\n"
      ],
      "text/plain": [
       "+--------------------+-----------+--------------------+--------------------+--------------------+-----------------+----+----+----+------+\n",
       "|         customer_id|postal_code|                  n1|                  n2|                  n3|               n4|n4_1|n4_2|n4_3|target|\n",
       "+--------------------+-----------+--------------------+--------------------+--------------------+-----------------+----+----+----+------+\n",
       "| 4974467801682041986|       1970|  1.0389522417417338| 0.16304700716821743|-0.07161893126965056|Intermediate Area|   0|   0|   1|     0|\n",
       "| -858641559787057159|       1645| -0.2659940172448812|   0.750317496703657| -0.8372525523443803|          Country|   0|   1|   0|     0|\n",
       "| 7875860926956384571|       7684|  1.3367555579432162| 0.26249975961591904|   1.542938718088682|             City|   1|   0|   0|     0|\n",
       "| 1718663060827327339|       3355|  0.5151084439689695| -0.7996961849347815|   2.175468067045149|          Country|   0|   1|   0|     1|\n",
       "|-8637874552457225727|       4344|  1.6956467653837362|  -0.945521641217198| -0.8639522191312855|             City|   1|   0|   0|     0|\n",
       "|-3177612884997717707|       3784|  0.9220421897516056|   1.550548930005398|  0.6383819989459883|          Country|   0|   1|   0|     0|\n",
       "| 8497217710787736490|       5538| 0.05814977039212976|  1.1856903392169684|  0.8213706052182598|             City|   1|   0|   0|     0|\n",
       "| 4292528309378731798|       1749|  0.6513284963527268| 0.31681656319599555|  0.6160836933665816|             City|   1|   0|   0|     0|\n",
       "| 3264293750177743940|       7445| 0.18470854245406923|-0.28029403630823474| -0.7622539473498987|Intermediate Area|   0|   0|   1|     0|\n",
       "| 3343463163369573891|       6479| -1.8851460177226464| -0.2248136997426025| -0.6219523743600517|             City|   1|   0|   0|     0|\n",
       "|-2003091656489871943|       9053|  1.4136364493913367| -2.1733523037523237|  1.9156759384605735|Intermediate Area|   0|   0|   1|     1|\n",
       "|-1573443531256041397|        473| -0.6817104012717342| -0.1283641785877116|   -0.73185303492469|Intermediate Area|   0|   0|   1|     0|\n",
       "| 2410866566384909228|        910|-0.35350044973534683|  0.3937318388806912| -0.7196739837242427|Intermediate Area|   0|   0|   1|     0|\n",
       "|-1315417650723204670|       5525|  1.4511329945225828|   3.298178612770547| -0.8975487114547572|             City|   1|   0|   0|     0|\n",
       "|-8786575890857431089|       3411|  0.6802768653414779|  0.7255625160464504|  1.8012801856627363|             City|   1|   0|   0|     0|\n",
       "|-4161989670585993951|       2865| -0.5213750426098978| -0.4447004351310944|   1.350303800122193|          Country|   0|   1|   0|     1|\n",
       "|  129906036330947555|       5998|  2.6881375747492817|-0.10078600190799875| -1.2536800356986995|             City|   1|   0|   0|     0|\n",
       "|-7539469263975420858|        154|  0.4055365083682963| -0.3288439646441138|  0.8202907508637033|Intermediate Area|   0|   0|   1|     0|\n",
       "|-4880110660144099841|       3972|  0.2545245569769309|  -0.851390765076803| -1.3877756936883927|          Country|   0|   1|   0|     0|\n",
       "| 5743198325664452321|       4691| 0.22347978480943695|  0.2569620184325527| -0.6155492259994447|Intermediate Area|   0|   0|   1|     0|\n",
       "+--------------------+-----------+--------------------+--------------------+--------------------+-----------------+----+----+----+------+\n",
       "only showing top 20 rows"
      ]
     },
     "execution_count": 9,
     "metadata": {},
     "output_type": "execute_result"
    }
   ],
   "source": [
    "df"
   ]
  },
  {
   "cell_type": "code",
   "execution_count": 10,
   "id": "6928bfc5",
   "metadata": {
    "collapsed": false,
    "jupyter": {
     "outputs_hidden": false
    },
    "pycharm": {
     "name": "#%%\n"
    },
    "tags": []
   },
   "outputs": [],
   "source": [
    "df_mean = df.select([mean(c) for c in df.columns])"
   ]
  },
  {
   "cell_type": "code",
   "execution_count": 11,
   "id": "4e77f7a5",
   "metadata": {
    "collapsed": false,
    "jupyter": {
     "outputs_hidden": false
    },
    "pycharm": {
     "name": "#%%\n"
    },
    "tags": []
   },
   "outputs": [
    {
     "name": "stdout",
     "output_type": "stream",
     "text": [
      "+--------------------+----------------+--------------------+--------------------+-------------------+-------+---------+---------+---------+-----------+\n",
      "|    avg(customer_id)|avg(postal_code)|             avg(n1)|             avg(n2)|            avg(n3)|avg(n4)|avg(n4_1)|avg(n4_2)|avg(n4_3)|avg(target)|\n",
      "+--------------------+----------------+--------------------+--------------------+-------------------+-------+---------+---------+---------+-----------+\n",
      "|3.076534643793414...|        4903.448|0.043817252029327056|0.025989175796927534|0.06259296277136904|   null|    0.355|     0.34|    0.305|      0.241|\n",
      "+--------------------+----------------+--------------------+--------------------+-------------------+-------+---------+---------+---------+-----------+\n",
      "\n"
     ]
    }
   ],
   "source": [
    "df_mean.show()"
   ]
  },
  {
   "cell_type": "code",
   "execution_count": 12,
   "id": "971cddb9-22a3-4b5d-9ae4-0e51e33ad433",
   "metadata": {
    "tags": []
   },
   "outputs": [
    {
     "data": {
      "text/html": [
       "<table border='1'>\n",
       "<tr><th>avg(customer_id)</th><th>avg(postal_code)</th><th>avg(n1)</th><th>avg(n2)</th><th>avg(n3)</th><th>avg(n4)</th><th>avg(n4_1)</th><th>avg(n4_2)</th><th>avg(n4_3)</th><th>avg(target)</th></tr>\n",
       "<tr><td>3.076534643793414...</td><td>4903.448</td><td>0.043817252029327056</td><td>0.025989175796927534</td><td>0.06259296277136904</td><td>null</td><td>0.355</td><td>0.34</td><td>0.305</td><td>0.241</td></tr>\n",
       "</table>\n"
      ],
      "text/plain": [
       "+--------------------+----------------+--------------------+--------------------+-------------------+-------+---------+---------+---------+-----------+\n",
       "|    avg(customer_id)|avg(postal_code)|             avg(n1)|             avg(n2)|            avg(n3)|avg(n4)|avg(n4_1)|avg(n4_2)|avg(n4_3)|avg(target)|\n",
       "+--------------------+----------------+--------------------+--------------------+-------------------+-------+---------+---------+---------+-----------+\n",
       "|3.076534643793414...|        4903.448|0.043817252029327056|0.025989175796927534|0.06259296277136904|   null|    0.355|     0.34|    0.305|      0.241|\n",
       "+--------------------+----------------+--------------------+--------------------+-------------------+-------+---------+---------+---------+-----------+"
      ]
     },
     "execution_count": 12,
     "metadata": {},
     "output_type": "execute_result"
    }
   ],
   "source": [
    "df_mean"
   ]
  },
  {
   "cell_type": "code",
   "execution_count": 13,
   "id": "a983a236",
   "metadata": {
    "collapsed": false,
    "jupyter": {
     "outputs_hidden": false
    },
    "pycharm": {
     "name": "#%%\n"
    },
    "tags": []
   },
   "outputs": [],
   "source": [
    "df_std = df.select([stddev(c) for c in df.columns])"
   ]
  },
  {
   "cell_type": "code",
   "execution_count": 14,
   "id": "4517224c",
   "metadata": {
    "collapsed": false,
    "jupyter": {
     "outputs_hidden": false
    },
    "pycharm": {
     "name": "#%%\n"
    },
    "tags": []
   },
   "outputs": [
    {
     "name": "stderr",
     "output_type": "stream",
     "text": [
      "23/05/17 13:34:57 WARN package: Truncated the string representation of a plan since it was too large. This behavior can be adjusted by setting 'spark.sql.debug.maxToStringFields'.\n"
     ]
    },
    {
     "name": "stdout",
     "output_type": "stream",
     "text": [
      "+------------------------+------------------------+------------------+-----------------+------------------+---------------+-------------------+------------------+-------------------+-------------------+\n",
      "|stddev_samp(customer_id)|stddev_samp(postal_code)|   stddev_samp(n1)|  stddev_samp(n2)|   stddev_samp(n3)|stddev_samp(n4)|  stddev_samp(n4_1)| stddev_samp(n4_2)|  stddev_samp(n4_3)|stddev_samp(target)|\n",
      "+------------------------+------------------------+------------------+-----------------+------------------+---------------+-------------------+------------------+-------------------+-------------------+\n",
      "|    5.243814185146357...|      2917.0811102023713|1.0204942026362929|0.957810415588983|1.0266739337270703|           null|0.47875275895205466|0.4739458034676797|0.46063780477419236|0.42790431418963537|\n",
      "+------------------------+------------------------+------------------+-----------------+------------------+---------------+-------------------+------------------+-------------------+-------------------+\n",
      "\n"
     ]
    }
   ],
   "source": [
    "df_std.show()"
   ]
  },
  {
   "cell_type": "code",
   "execution_count": 15,
   "id": "f1542853-fa82-4183-adc8-e5546e9f8530",
   "metadata": {
    "tags": []
   },
   "outputs": [
    {
     "data": {
      "text/html": [
       "<table border='1'>\n",
       "<tr><th>stddev_samp(customer_id)</th><th>stddev_samp(postal_code)</th><th>stddev_samp(n1)</th><th>stddev_samp(n2)</th><th>stddev_samp(n3)</th><th>stddev_samp(n4)</th><th>stddev_samp(n4_1)</th><th>stddev_samp(n4_2)</th><th>stddev_samp(n4_3)</th><th>stddev_samp(target)</th></tr>\n",
       "<tr><td>5.243814185146357...</td><td>2917.0811102023713</td><td>1.0204942026362929</td><td>0.957810415588983</td><td>1.0266739337270703</td><td>null</td><td>0.47875275895205466</td><td>0.4739458034676797</td><td>0.46063780477419236</td><td>0.42790431418963537</td></tr>\n",
       "</table>\n"
      ],
      "text/plain": [
       "+------------------------+------------------------+------------------+-----------------+------------------+---------------+-------------------+------------------+-------------------+-------------------+\n",
       "|stddev_samp(customer_id)|stddev_samp(postal_code)|   stddev_samp(n1)|  stddev_samp(n2)|   stddev_samp(n3)|stddev_samp(n4)|  stddev_samp(n4_1)| stddev_samp(n4_2)|  stddev_samp(n4_3)|stddev_samp(target)|\n",
       "+------------------------+------------------------+------------------+-----------------+------------------+---------------+-------------------+------------------+-------------------+-------------------+\n",
       "|    5.243814185146357...|      2917.0811102023713|1.0204942026362929|0.957810415588983|1.0266739337270703|           null|0.47875275895205466|0.4739458034676797|0.46063780477419236|0.42790431418963537|\n",
       "+------------------------+------------------------+------------------+-----------------+------------------+---------------+-------------------+------------------+-------------------+-------------------+"
      ]
     },
     "execution_count": 15,
     "metadata": {},
     "output_type": "execute_result"
    }
   ],
   "source": [
    "df_std"
   ]
  },
  {
   "cell_type": "markdown",
   "id": "fd908a49",
   "metadata": {
    "pycharm": {
     "name": "#%% md\n"
    }
   },
   "source": [
    "## Build a model...\n",
    "\n",
    "Let's build a simple classification model which aims to predict the *target*.\n",
    "\n",
    "But first, let's clarify [terminology](https://spark.apache.org/docs/latest/ml-pipeline.html#example-estimator-transformer-and-param) for a moment:\n",
    "\n",
    "* We already know **DataFrames**.\n",
    "* **Transformers** can transform one DataFrame to another DataFrame. An ML Transformer transforms a DataFrame with features to DataFrame with predictions.\n",
    "* **Estimators** create Transformers via Fitting on a DataFrame.\n",
    "* A **Pipeline** chains Transformers and Estimators to create a Pipeline workflow. But they are not covered here."
   ]
  },
  {
   "cell_type": "code",
   "execution_count": 16,
   "id": "fc65219d",
   "metadata": {
    "collapsed": false,
    "jupyter": {
     "outputs_hidden": false
    },
    "pycharm": {
     "name": "#%%\n"
    },
    "tags": []
   },
   "outputs": [],
   "source": [
    "FEATURES = [\"n1\", \"n2\", \"n3\", \"n4_1\", \"n4_2\", \"n4_3\"]\n",
    "TARGET = \"target\""
   ]
  },
  {
   "cell_type": "markdown",
   "id": "0e9e1760",
   "metadata": {
    "pycharm": {
     "name": "#%% md\n"
    }
   },
   "source": [
    "Most machine learning algorithms in Spark require input data to be in vector format. PySpark's VectorAssembler is a utility that allows you to combine multiple columns of a PySpark DataFrame into a single vector column. The resulting vector column is then used as an input to machine learning algorithms in PySpark."
   ]
  },
  {
   "cell_type": "code",
   "execution_count": 17,
   "id": "4f6577d6",
   "metadata": {
    "collapsed": false,
    "jupyter": {
     "outputs_hidden": false
    },
    "pycharm": {
     "name": "#%%\n"
    },
    "tags": []
   },
   "outputs": [],
   "source": [
    "assembler = VectorAssembler(\n",
    "    inputCols=FEATURES,\n",
    "    outputCol=\"features_vec\"\n",
    ")\n",
    "df_prep = assembler.transform(df).select(\"features_vec\", TARGET)"
   ]
  },
  {
   "cell_type": "code",
   "execution_count": 18,
   "id": "f3dbfdc9",
   "metadata": {
    "collapsed": false,
    "jupyter": {
     "outputs_hidden": false
    },
    "pycharm": {
     "name": "#%%\n"
    },
    "tags": []
   },
   "outputs": [
    {
     "name": "stdout",
     "output_type": "stream",
     "text": [
      "+--------------------+------+\n",
      "|        features_vec|target|\n",
      "+--------------------+------+\n",
      "|[1.03895224174173...|     0|\n",
      "|[-0.2659940172448...|     0|\n",
      "+--------------------+------+\n",
      "only showing top 2 rows\n",
      "\n"
     ]
    }
   ],
   "source": [
    "df_prep.show(2)"
   ]
  },
  {
   "cell_type": "code",
   "execution_count": 19,
   "id": "59877a4e-08dd-401e-9269-e203c7c253ce",
   "metadata": {
    "tags": []
   },
   "outputs": [
    {
     "data": {
      "text/plain": [
       "Row(features_vec=DenseVector([1.039, 0.163, -0.0716, 0.0, 0.0, 1.0]), target=0)"
      ]
     },
     "execution_count": 19,
     "metadata": {},
     "output_type": "execute_result"
    }
   ],
   "source": [
    "df_prep.collect()[0]"
   ]
  },
  {
   "cell_type": "code",
   "execution_count": 20,
   "id": "e3283a60",
   "metadata": {
    "collapsed": false,
    "jupyter": {
     "outputs_hidden": false
    },
    "pycharm": {
     "name": "#%%\n"
    },
    "tags": []
   },
   "outputs": [],
   "source": [
    "df_train, df_test = df_prep.randomSplit([0.8, 0.2], seed=42)"
   ]
  },
  {
   "cell_type": "markdown",
   "id": "b9db878f",
   "metadata": {
    "pycharm": {
     "name": "#%% md\n"
    }
   },
   "source": [
    "Allright. Let's fit the baseline model.\n",
    "\n",
    "The syntax is very similar to sklearn. But, as mentioned above, there is a distingtion between Estimators and Transformers. So, the fitting process returns a Transformer object (in contrast to sklearn, where the object fitted object is able to make predictions directly)."
   ]
  },
  {
   "cell_type": "code",
   "execution_count": 21,
   "id": "aa469e4a",
   "metadata": {
    "collapsed": false,
    "jupyter": {
     "outputs_hidden": false
    },
    "pycharm": {
     "name": "#%%\n"
    },
    "tags": []
   },
   "outputs": [],
   "source": [
    "lr = LogisticRegression(labelCol=TARGET, featuresCol=\"features_vec\")"
   ]
  },
  {
   "cell_type": "code",
   "execution_count": 22,
   "id": "3122b01d",
   "metadata": {
    "collapsed": false,
    "jupyter": {
     "outputs_hidden": false
    },
    "pycharm": {
     "name": "#%%\n"
    },
    "tags": []
   },
   "outputs": [
    {
     "name": "stderr",
     "output_type": "stream",
     "text": [
      "23/05/17 13:35:47 WARN InstanceBuilder: Failed to load implementation from:dev.ludovic.netlib.blas.JNIBLAS\n"
     ]
    }
   ],
   "source": [
    "model = lr.fit(df_train)"
   ]
  },
  {
   "cell_type": "markdown",
   "id": "1531a125",
   "metadata": {
    "pycharm": {
     "name": "#%% md\n"
    }
   },
   "source": [
    "The question whether and how the training process can now be parallelized depends on the model architecture. A knn clustering, for example, can be easily parallelized. An xgboost method, on the other hand, is somewhat more complex. Since the training process is sequential, only the individual steps can be parallelized here. The way in which the calculation is optimized differs in each case. This also applies to the inference."
   ]
  },
  {
   "cell_type": "code",
   "execution_count": 23,
   "id": "2d7deec7",
   "metadata": {
    "collapsed": false,
    "jupyter": {
     "outputs_hidden": false
    },
    "pycharm": {
     "name": "#%%\n"
    },
    "tags": []
   },
   "outputs": [],
   "source": [
    "df_pred = model.transform(df_test)"
   ]
  },
  {
   "cell_type": "markdown",
   "id": "790c2014",
   "metadata": {
    "pycharm": {
     "name": "#%% md\n"
    }
   },
   "source": [
    "## ... test it ..."
   ]
  },
  {
   "cell_type": "code",
   "execution_count": 24,
   "id": "2c78897a",
   "metadata": {
    "collapsed": false,
    "jupyter": {
     "outputs_hidden": false
    },
    "pycharm": {
     "name": "#%%\n"
    },
    "tags": []
   },
   "outputs": [
    {
     "name": "stdout",
     "output_type": "stream",
     "text": [
      "+--------------------+------+--------------------+--------------------+----------+\n",
      "|        features_vec|target|       rawPrediction|         probability|prediction|\n",
      "+--------------------+------+--------------------+--------------------+----------+\n",
      "|[-2.5592004494753...|     1|[-5.0496932470165...|[0.00637045692062...|       1.0|\n",
      "|[-2.3885567658875...|     0|[2.57487809350654...|[0.92922717150041...|       0.0|\n",
      "|[-2.2798296814936...|     1|[-0.7487301988090...|[0.32109804707567...|       1.0|\n",
      "+--------------------+------+--------------------+--------------------+----------+\n",
      "only showing top 3 rows\n",
      "\n"
     ]
    }
   ],
   "source": [
    "df_pred.show(3)"
   ]
  },
  {
   "cell_type": "markdown",
   "id": "3ed44365-d1cc-4f51-a804-68a1a5cce61b",
   "metadata": {},
   "source": [
    "Let's test the goodness of fit via \n",
    "* Accuarcy\n",
    "* F1 Score \n",
    "* Area under the curve\n",
    "\n",
    "Note that neither BinaryClassificationEvaluator nor MulticlassClassificationEvaluator can calculate all metrics on their own. We need to use both."
   ]
  },
  {
   "cell_type": "code",
   "execution_count": 25,
   "id": "bc50abe0-ee9e-4da3-a83c-2ba1f8553084",
   "metadata": {},
   "outputs": [
    {
     "name": "stdout",
     "output_type": "stream",
     "text": [
      "accuracy: 0.84\n",
      "f1: 0.83\n"
     ]
    }
   ],
   "source": [
    "evaluator = MulticlassClassificationEvaluator(labelCol=TARGET, \n",
    "                                              predictionCol=\"prediction\")\n",
    "\n",
    "accuracy = evaluator.evaluate(df_pred, {evaluator.metricName: 'accuracy'})\n",
    "f1 = evaluator.evaluate(df_pred, {evaluator.metricName: 'f1'})\n",
    "\n",
    "print(f\"accuracy: {accuracy:.2f}\")\n",
    "print(f\"f1: {f1:.2f}\")"
   ]
  },
  {
   "cell_type": "code",
   "execution_count": 26,
   "id": "7d81e829-53e6-44c5-b716-66144925950c",
   "metadata": {
    "tags": []
   },
   "outputs": [
    {
     "name": "stdout",
     "output_type": "stream",
     "text": [
      "AUC: 0.86\n"
     ]
    }
   ],
   "source": [
    "evaluator = BinaryClassificationEvaluator(labelCol=TARGET, \n",
    "                                          rawPredictionCol='rawPrediction')\n",
    "\n",
    "auc = evaluator.evaluate(df_pred, {evaluator.metricName: 'areaUnderROC'})\n",
    "\n",
    "print(f\"AUC: {auc:.2f}\")"
   ]
  },
  {
   "cell_type": "markdown",
   "id": "66dbc5be",
   "metadata": {
    "pycharm": {
     "name": "#%% md\n"
    }
   },
   "source": [
    "## ... and persist it."
   ]
  },
  {
   "cell_type": "markdown",
   "id": "b0bc04d7",
   "metadata": {
    "pycharm": {
     "name": "#%% md\n"
    }
   },
   "source": [
    "So here we are. We've got a model in our hands. Hooray.\n",
    "\n",
    "For sure, we don't want to train a model again and again but persist it. The Transformer object comes with an built in function to do so. One can persist the model on localhost or any blob storage. "
   ]
  },
  {
   "cell_type": "code",
   "execution_count": 27,
   "id": "0e8122c0",
   "metadata": {
    "collapsed": false,
    "jupyter": {
     "outputs_hidden": false
    },
    "pycharm": {
     "name": "#%%\n"
    },
    "tags": []
   },
   "outputs": [],
   "source": [
    "import os"
   ]
  },
  {
   "cell_type": "code",
   "execution_count": 28,
   "id": "1cd41c7a",
   "metadata": {
    "collapsed": false,
    "jupyter": {
     "outputs_hidden": false
    },
    "pycharm": {
     "name": "#%%\n"
    },
    "tags": []
   },
   "outputs": [],
   "source": [
    "path = \"model/my_model\""
   ]
  },
  {
   "cell_type": "code",
   "execution_count": 29,
   "id": "e931f30e",
   "metadata": {
    "collapsed": false,
    "jupyter": {
     "outputs_hidden": false
    },
    "pycharm": {
     "name": "#%%\n"
    },
    "tags": []
   },
   "outputs": [],
   "source": [
    "if os.path.exists(path):\n",
    "    os.system(f'rm -r {path}')"
   ]
  },
  {
   "cell_type": "code",
   "execution_count": 30,
   "id": "bb9cebc0",
   "metadata": {
    "collapsed": false,
    "jupyter": {
     "outputs_hidden": false
    },
    "pycharm": {
     "name": "#%%\n"
    },
    "tags": []
   },
   "outputs": [
    {
     "name": "stderr",
     "output_type": "stream",
     "text": [
      "                                                                                \r"
     ]
    }
   ],
   "source": [
    "model.save(path)"
   ]
  },
  {
   "cell_type": "markdown",
   "id": "c96d397d",
   "metadata": {
    "pycharm": {
     "name": "#%% md\n"
    }
   },
   "source": [
    "Then, in any production environment, one can load the model to work with it. Note that this could also happen in Scala or Java directly, because the serialization was not done via pickle but is language-agnostic.\n",
    "Again, one faces some unintuitive syntax, because the ```load()``` method is implemented in a Model class."
   ]
  },
  {
   "cell_type": "code",
   "execution_count": null,
   "id": "daea3947",
   "metadata": {
    "collapsed": false,
    "jupyter": {
     "outputs_hidden": false
    },
    "pycharm": {
     "name": "#%%\n"
    },
    "tags": []
   },
   "outputs": [],
   "source": [
    "# model_loaded = LogisticRegressionModel.load(\"model/my_model\")"
   ]
  },
  {
   "cell_type": "markdown",
   "id": "17d31d50",
   "metadata": {
    "pycharm": {
     "name": "#%% md\n"
    }
   },
   "source": [
    "## Chain in a pipeline\n",
    "\n",
    "There is also the possibility to capture these two steps directly in one object. Pipelines form a construct in which several Transformers and Estimators can be chained together. "
   ]
  },
  {
   "cell_type": "code",
   "execution_count": 31,
   "id": "539232c7",
   "metadata": {
    "collapsed": false,
    "jupyter": {
     "outputs_hidden": false
    },
    "pycharm": {
     "name": "#%%\n"
    },
    "tags": []
   },
   "outputs": [],
   "source": [
    "assembler = VectorAssembler(\n",
    "    inputCols=FEATURES,\n",
    "    outputCol=\"features_vec\"\n",
    ")\n",
    "\n",
    "lr = LogisticRegression(labelCol=TARGET, featuresCol=\"features_vec\")\n",
    "\n",
    "pipeline = Pipeline(stages=[assembler, lr])"
   ]
  },
  {
   "cell_type": "markdown",
   "id": "75204df9",
   "metadata": {
    "pycharm": {
     "name": "#%% md\n"
    }
   },
   "source": [
    "In this case, the train-test-split has to be applied directly on the original DataFrame. "
   ]
  },
  {
   "cell_type": "code",
   "execution_count": 32,
   "id": "f3dd135c",
   "metadata": {
    "collapsed": false,
    "jupyter": {
     "outputs_hidden": false
    },
    "pycharm": {
     "name": "#%%\n"
    },
    "tags": []
   },
   "outputs": [],
   "source": [
    "df_train_direct, df_test_direct = df.randomSplit([0.8, 0.2], seed=42)"
   ]
  },
  {
   "cell_type": "code",
   "execution_count": 33,
   "id": "1b52c489",
   "metadata": {
    "collapsed": false,
    "jupyter": {
     "outputs_hidden": false
    },
    "pycharm": {
     "name": "#%%\n"
    },
    "tags": []
   },
   "outputs": [],
   "source": [
    "model = pipeline.fit(df_train_direct)"
   ]
  },
  {
   "cell_type": "code",
   "execution_count": 34,
   "id": "7f81b7ca",
   "metadata": {
    "collapsed": false,
    "jupyter": {
     "outputs_hidden": false
    },
    "pycharm": {
     "name": "#%%\n"
    },
    "tags": []
   },
   "outputs": [],
   "source": [
    "df_pred = model.transform(df_test_direct)"
   ]
  },
  {
   "cell_type": "code",
   "execution_count": 35,
   "id": "4ba11f84",
   "metadata": {
    "collapsed": false,
    "jupyter": {
     "outputs_hidden": false
    },
    "pycharm": {
     "name": "#%%\n"
    },
    "tags": []
   },
   "outputs": [
    {
     "name": "stdout",
     "output_type": "stream",
     "text": [
      "+--------------------+-----------+-------------------+--------------------+-------------------+-------+----+----+----+------+--------------------+--------------------+--------------------+----------+\n",
      "|         customer_id|postal_code|                 n1|                  n2|                 n3|     n4|n4_1|n4_2|n4_3|target|        features_vec|       rawPrediction|         probability|prediction|\n",
      "+--------------------+-----------+-------------------+--------------------+-------------------+-------+----+----+----+------+--------------------+--------------------+--------------------+----------+\n",
      "|-9122871847693039327|       1258|   0.53297997354576|-0.16787123785158928| 0.8646612240550045|   City|   1|   0|   0|     1|[0.53297997354576...|[0.37584911122627...|[0.59287157021844...|       0.0|\n",
      "|-9037252130589906431|       4550|-0.6363395261942798| -0.7252099279344788| 0.5305191506848624|   City|   1|   0|   0|     1|[-0.6363395261942...|[-0.5131584962944...|[0.37445339264470...|       1.0|\n",
      "|-9010612580356150391|       1053| 0.9941529008802243| -0.7885305470922452|-1.5939847343440499|Country|   0|   1|   0|     0|[0.99415290088022...|[3.78374511649388...|[0.97776811707598...|       0.0|\n",
      "+--------------------+-----------+-------------------+--------------------+-------------------+-------+----+----+----+------+--------------------+--------------------+--------------------+----------+\n",
      "only showing top 3 rows\n",
      "\n"
     ]
    }
   ],
   "source": [
    "df_pred.show(3)"
   ]
  },
  {
   "cell_type": "markdown",
   "id": "ff6aa2ab",
   "metadata": {
    "pycharm": {
     "name": "#%% md\n"
    }
   },
   "source": [
    "## Optimization\n",
    "\n",
    "Note that the example above is for education purposes. In real world problems, one might try out different hyperparameter setups as well as different models to reach the best one. Also, cross validation should be applied if possible to acchieve more stable results."
   ]
  },
  {
   "cell_type": "code",
   "execution_count": 36,
   "id": "df4772e4",
   "metadata": {
    "collapsed": false,
    "jupyter": {
     "outputs_hidden": false
    },
    "pycharm": {
     "name": "#%%\n"
    },
    "tags": []
   },
   "outputs": [],
   "source": [
    "assembler = VectorAssembler(\n",
    "    inputCols=FEATURES,\n",
    "    outputCol=\"features_vec\"\n",
    ")\n",
    "\n",
    "lr = LogisticRegression(labelCol=TARGET, featuresCol=\"features_vec\")\n",
    "\n",
    "evaluator = BinaryClassificationEvaluator(labelCol=TARGET, \n",
    "                                          rawPredictionCol='rawPrediction',\n",
    "                                          metricName=\"areaUnderROC\")\n",
    "\n",
    "pipeline = Pipeline(stages=[assembler, lr])\n",
    "\n",
    "parameter_grid = ParamGridBuilder() \\\n",
    "    .addGrid(lr.regParam, [0.1, 0.01]) \\\n",
    "    .addGrid(lr.elasticNetParam, [0.0, 0.5, 1.0]) \\\n",
    "    .build()\n",
    "\n",
    "crossval = CrossValidator(\n",
    "    estimator=pipeline,\n",
    "    estimatorParamMaps=parameter_grid,\n",
    "    evaluator=evaluator,\n",
    "    numFolds=2\n",
    ")\n",
    "\n",
    "cross_val_model = crossval.fit(df_train_direct)"
   ]
  },
  {
   "cell_type": "code",
   "execution_count": 37,
   "id": "a40a3dc5",
   "metadata": {
    "collapsed": false,
    "jupyter": {
     "outputs_hidden": false
    },
    "pycharm": {
     "name": "#%%\n"
    },
    "tags": []
   },
   "outputs": [],
   "source": [
    "DEEP_DIVE = False"
   ]
  },
  {
   "cell_type": "code",
   "execution_count": 38,
   "id": "2a5ccc47",
   "metadata": {
    "collapsed": false,
    "jupyter": {
     "outputs_hidden": false
    },
    "pycharm": {
     "name": "#%%\n"
    },
    "tags": []
   },
   "outputs": [],
   "source": [
    "if DEEP_DIVE: \n",
    "    print(cross_val_model.bestModel.stages[1].extractParamMap())"
   ]
  },
  {
   "cell_type": "code",
   "execution_count": 39,
   "id": "dcf4d190",
   "metadata": {
    "collapsed": false,
    "jupyter": {
     "outputs_hidden": false
    },
    "pycharm": {
     "name": "#%%\n"
    },
    "tags": []
   },
   "outputs": [],
   "source": [
    "if DEEP_DIVE:\n",
    "    print(cross_val_model.avgMetrics)"
   ]
  },
  {
   "cell_type": "markdown",
   "id": "79a4507c",
   "metadata": {
    "pycharm": {
     "name": "#%% md\n"
    }
   },
   "source": [
    "## Challenges in a fitting process.\n",
    "\n",
    "Real data sets usually require some pre-processing before fitting is possible.\n",
    "\n",
    "* For instance, not every ML model is able to handle missing values. One needs to drop oder impute missing values first. \n",
    "* Also, some models are sensitive to different scales in the expressions of numerical values, so one needs to standardize.\n",
    "* Speaking about numerical values, for many models categorical data have to be encoded first. \n",
    "\n",
    "For those cases, there exist Transformers as well. One should integrate them in the modelling process, best directly into a pipeline."
   ]
  },
  {
   "cell_type": "markdown",
   "id": "b62ef318-9e4c-4128-af1a-12e573c8fc0c",
   "metadata": {
    "pycharm": {
     "name": "#%% md\n"
    }
   },
   "source": [
    "## Wrap-Up \n",
    "\n",
    "* Spark ML is a powerful tool to train ML models in a distributed way.\n",
    "* The syntax is similar to sklearn, but there are some differences.\n",
    "* Transformer and Estimator are the two main components in a fitting process. Transformers transform data, Estimators fit models.\n",
    "* The feature values must first be transferred to a so-called feature vector.\n",
    "* The fitting process is parallelized, but the degree of parallelization depends on the model architecture.\n",
    "* The resulting model can be persisted and loaded again in any production environment.\n",
    "* Pipelines are a convenient way to chain several Transformers and Estimators together.\n",
    "* Once again, the principle of lazy behavior applies. The fitting process is only executed when the ```fit()``` method is called."
   ]
  },
  {
   "cell_type": "markdown",
   "id": "94b1dc50",
   "metadata": {
    "pycharm": {
     "name": "#%% md\n"
    }
   },
   "source": [
    "## Congrats!\n",
    "\n",
    "You dived into ML via Pyspark.  \n",
    "🚀🚀🚀\n",
    "\n",
    "Again, stop the local spark session.\n",
    "\n",
    "Then, let's move to the cloud! "
   ]
  },
  {
   "cell_type": "code",
   "execution_count": 40,
   "id": "70936572-3904-483f-ba42-54a97198e6cd",
   "metadata": {
    "pycharm": {
     "name": "#%%\n"
    },
    "tags": []
   },
   "outputs": [],
   "source": [
    "spark_session.stop()"
   ]
  },
  {
   "cell_type": "code",
   "execution_count": null,
   "id": "b2a4a2cc-6542-4017-b561-8ec343854c6c",
   "metadata": {
    "pycharm": {
     "name": "#%%\n"
    }
   },
   "outputs": [],
   "source": []
  }
 ],
 "metadata": {
  "kernelspec": {
   "display_name": "Python 3 (ipykernel)",
   "language": "python",
   "name": "python3"
  },
  "language_info": {
   "codemirror_mode": {
    "name": "ipython",
    "version": 3
   },
   "file_extension": ".py",
   "mimetype": "text/x-python",
   "name": "python",
   "nbconvert_exporter": "python",
   "pygments_lexer": "ipython3",
   "version": "3.9.2"
  }
 },
 "nbformat": 4,
 "nbformat_minor": 5
}
